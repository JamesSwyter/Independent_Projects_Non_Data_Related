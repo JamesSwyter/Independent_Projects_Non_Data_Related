{
 "cells": [
  {
   "cell_type": "code",
   "execution_count": 50,
   "metadata": {},
   "outputs": [
    {
     "name": "stdout",
     "output_type": "stream",
     "text": [
      "      0     1     2     3     4\n",
      "0   904   855     1   822     0\n",
      "1     0  2372  2313     1  2113\n",
      "2   312   273   187     0     1\n",
      "3  2414  2408     0  2073     1\n",
      "4  1271  1398     0  1372     1\n",
      "   0  1  2  3  4\n",
      "0  5  4  2  3  1\n",
      "1  1  5  4  2  3\n",
      "2  5  4  3  1  2\n",
      "3  5  4  1  3  2\n",
      "4  3  5  1  4  2\n",
      "0    4.15607\n",
      "1    3.36037\n",
      "2    2.82392\n",
      "3    2.46167\n",
      "4    2.19797\n",
      "dtype: float64\n"
     ]
    }
   ],
   "source": [
    "import random\n",
    "import pandas as pd\n",
    "\n",
    "#next try increasing pot size over time\n",
    "\n",
    "#Cycles through each stack size. If one of the stacks has busted, add 1 to the respective player count. \n",
    "def check_bust_status():\n",
    "    \n",
    "    for i in range(len(stack_sizes)):       \n",
    "        if stack_sizes[i] == 0:\n",
    "            players[i] +=1\n",
    "\n",
    "#This helps stop the program. Every busted stack adds one to the count. When the number of busted stacks reaches four, the \n",
    "#program is stopped\n",
    "def bust_counter(x):\n",
    "    \n",
    "    x = 0\n",
    "    for i in range(len(stack_sizes)):\n",
    "        if stack_sizes[i] == 0:\n",
    "            x +=1\n",
    "    \n",
    "    return x\n",
    "\n",
    "#This interprets the results at the end. The stack with the highest player count must have busted first, the second highest\n",
    "#must have busted next, etc. So the player with the highest player count recieves a ranking of 5, next highest 4, etc. \n",
    "def bust_number_interpreter(x):\n",
    "    \n",
    "    sorted_list = sorted(x)\n",
    "    rankings = [1+sorted_list.index(i) for i in x]\n",
    "    \n",
    "    return rankings\n",
    "\n",
    "#Runs the tournament simulation\n",
    "def tourney_playthrough():\n",
    "    \n",
    "    bust_count = 0\n",
    "    \n",
    "    #When there a four busted stacks, end the program\n",
    "    while (bust_count < 4):       \n",
    "        \n",
    "        #The loser and winner of each pot are generated randomnly\n",
    "        loser = random.randint(0,len(stack_sizes)-1)\n",
    "        winner = random.randint(0,len(stack_sizes)-1)\n",
    "    \n",
    "        #Players already busted can no longer participate, so players can only lose or win a pot if there current\n",
    "        #stack is not busted, ie >0\n",
    "        if(stack_sizes[loser] > 0 and stack_sizes[winner] > 0):\n",
    "            #If they are still in play, update stack sizes to reflect win/loss\n",
    "            stack_sizes[loser] = stack_sizes[loser] - pot_size\n",
    "            stack_sizes[winner] = stack_sizes[winner] + pot_size\n",
    "\n",
    "        #Check bust status of each stack\n",
    "        check_bust_status()\n",
    "        #Update bust counter to see if program should run again. \n",
    "        bust_count = bust_counter(bust_count)\n",
    "    \n",
    "    #Return player counts \n",
    "    return(players)\n",
    "\n",
    "master_results = []\n",
    "master_rankings = []\n",
    "\n",
    "#Run the simulation 100,000 times\n",
    "for i in range(100000):    \n",
    "    \n",
    "    #Player counts start at 0, 1 is added to each count every turn after they bust\n",
    "    players = [0,0,0,0,0]\n",
    "    #Starting stack sizes for each player\n",
    "    stack_sizes = [100,200,300,400,500]\n",
    "    #Pot size is always 100, this can be changed arbitrarily\n",
    "    pot_size = 100\n",
    "    \n",
    "    #Record player counts and rankings for each tournament simulation, make into a dataframe\n",
    "    results = tourney_playthrough()\n",
    "    rankings = bust_number_interpreter(results)\n",
    "    \n",
    "    master_results.append(results)\n",
    "    master_rankings.append(rankings)\n",
    "    \n",
    "    \n",
    "master_results_df = pd.DataFrame(master_results)\n",
    "master_rankings_df = pd.DataFrame(master_rankings)\n",
    "\n",
    "#Find the average finishing place of each stack. \n",
    "average_rankings = master_rankings_df.mean(axis=0)\n",
    "    \n",
    "print(master_results_df.head())\n",
    "print(master_rankings_df.head())\n",
    "print(average_rankings)"
   ]
  },
  {
   "cell_type": "code",
   "execution_count": 53,
   "metadata": {},
   "outputs": [
    {
     "data": {
      "text/html": [
       "<div>\n",
       "<style scoped>\n",
       "    .dataframe tbody tr th:only-of-type {\n",
       "        vertical-align: middle;\n",
       "    }\n",
       "\n",
       "    .dataframe tbody tr th {\n",
       "        vertical-align: top;\n",
       "    }\n",
       "\n",
       "    .dataframe thead th {\n",
       "        text-align: right;\n",
       "    }\n",
       "</style>\n",
       "<table border=\"1\" class=\"dataframe\">\n",
       "  <thead>\n",
       "    <tr style=\"text-align: right;\">\n",
       "      <th></th>\n",
       "      <th>0</th>\n",
       "      <th>1</th>\n",
       "      <th>2</th>\n",
       "      <th>3</th>\n",
       "      <th>4</th>\n",
       "    </tr>\n",
       "  </thead>\n",
       "  <tbody>\n",
       "    <tr>\n",
       "      <th>0</th>\n",
       "      <td>5</td>\n",
       "      <td>4</td>\n",
       "      <td>3</td>\n",
       "      <td>1</td>\n",
       "      <td>1</td>\n",
       "    </tr>\n",
       "  </tbody>\n",
       "</table>\n",
       "</div>"
      ],
      "text/plain": [
       "   0  1  2  3  4\n",
       "0  5  4  3  1  1"
      ]
     },
     "execution_count": 53,
     "metadata": {},
     "output_type": "execute_result"
    }
   ],
   "source": [
    "master_rankings_df.mode(axis=0)"
   ]
  },
  {
   "cell_type": "code",
   "execution_count": 55,
   "metadata": {},
   "outputs": [
    {
     "data": {
      "text/plain": [
       "5    59565\n",
       "4    17096\n",
       "3     9383\n",
       "2     7293\n",
       "1     6663\n",
       "Name: 0, dtype: int64"
      ]
     },
     "execution_count": 55,
     "metadata": {},
     "output_type": "execute_result"
    }
   ],
   "source": [
    "master_rankings_df[0].value_counts()"
   ]
  },
  {
   "cell_type": "code",
   "execution_count": 58,
   "metadata": {},
   "outputs": [
    {
     "data": {
      "text/plain": [
       "1    33272\n",
       "2    30030\n",
       "3    22766\n",
       "4    11493\n",
       "5     2439\n",
       "Name: 4, dtype: int64"
      ]
     },
     "execution_count": 58,
     "metadata": {},
     "output_type": "execute_result"
    }
   ],
   "source": [
    "master_rankings_df[4].value_counts()"
   ]
  },
  {
   "cell_type": "code",
   "execution_count": 59,
   "metadata": {},
   "outputs": [
    {
     "data": {
      "text/plain": [
       "1    26854\n",
       "2    26650\n",
       "3    24929\n",
       "4    16609\n",
       "5     4958\n",
       "Name: 3, dtype: int64"
      ]
     },
     "execution_count": 59,
     "metadata": {},
     "output_type": "execute_result"
    }
   ],
   "source": [
    "master_rankings_df[3].value_counts()"
   ]
  },
  {
   "cell_type": "code",
   "execution_count": null,
   "metadata": {},
   "outputs": [],
   "source": []
  }
 ],
 "metadata": {
  "kernelspec": {
   "display_name": "Python 3",
   "language": "python",
   "name": "python3"
  },
  "language_info": {
   "codemirror_mode": {
    "name": "ipython",
    "version": 3
   },
   "file_extension": ".py",
   "mimetype": "text/x-python",
   "name": "python",
   "nbconvert_exporter": "python",
   "pygments_lexer": "ipython3",
   "version": "3.7.6"
  }
 },
 "nbformat": 4,
 "nbformat_minor": 4
}
