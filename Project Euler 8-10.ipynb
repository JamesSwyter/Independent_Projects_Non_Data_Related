{
 "cells": [
  {
   "cell_type": "code",
   "execution_count": 36,
   "metadata": {},
   "outputs": [
    {
     "data": {
      "text/plain": [
       "23514624000"
      ]
     },
     "execution_count": 36,
     "metadata": {},
     "output_type": "execute_result"
    }
   ],
   "source": [
    "def listmultiply(list):\n",
    "    answer=1\n",
    "    for x in list:\n",
    "        answer=answer*int(x)\n",
    "    return answer\n",
    "\n",
    "def segmenter_for_x_digits(x,string,a=0):\n",
    "    list=[]\n",
    "    for i in range(x):\n",
    "        list.append(string[a+i])\n",
    "    return list\n",
    "\n",
    "def collect_products_get_max(x,number):\n",
    "    number=str(number)\n",
    "    a=len(number)\n",
    "    list_of_products=[]\n",
    "    for i in range(a-x):\n",
    "        list_of_products.append(listmultiply(segmenter_for_x_digits(x,number,i)))\n",
    "    return max(list_of_products)\n",
    "\n",
    "sample=7316717653133062491922511967442657474235534919493496983520312774506326239578318016984801869478851843858615607891129494954595017379583319528532088055111254069874715852386305071569329096329522744304355766896648950445244523161731856403098711121722383113622298934233803081353362766142828064444866452387493035890729629049156044077239071381051585930796086670172427121883998797908792274921901699720888093776657273330010533678812202354218097512545405947522435258490771167055601360483958644670632441572215539753697817977846174064955149290862569321978468622482839722413756570560574902614079729686524145351004748216637048440319989000889524345065854122758866688116427171479924442928230863465674813919123162824586178664583591245665294765456828489128831426076900422421902267105562632111110937054421750694165896040807198403850962455444362981230987879927244284909188845801561660979191338754992005240636899125607176060588611646710940507754100225698315520005593572972571636269561882670428252483600823257530420752963450\n",
    "\n",
    "collect_products_get_max(13,sample)"
   ]
  },
  {
   "cell_type": "code",
   "execution_count": 43,
   "metadata": {},
   "outputs": [
    {
     "name": "stdout",
     "output_type": "stream",
     "text": [
      "375 200 425.0\n"
     ]
    }
   ],
   "source": [
    "from math import sqrt\n",
    "a=500\n",
    "\n",
    "while a+b+c != 1000:\n",
    "    a-=1\n",
    "    for i in range(499):\n",
    "        b=1\n",
    "        b=b+i\n",
    "        c = sqrt(a**2 + b**2)\n",
    "        if a+b+c==1000:\n",
    "            break\n",
    "print(a,b,c)"
   ]
  },
  {
   "cell_type": "code",
   "execution_count": 2,
   "metadata": {},
   "outputs": [
    {
     "data": {
      "text/plain": [
       "142913828922"
      ]
     },
     "execution_count": 2,
     "metadata": {},
     "output_type": "execute_result"
    }
   ],
   "source": [
    "def Sieve_of_Eratosthenes(n):\n",
    "\n",
    "    list_of_Trues=[True for i in range(n+1)]\n",
    "    \n",
    "    p=2\n",
    "    while(p**2 <= n):\n",
    "        for i in range(p*p,n+1,p):\n",
    "            list_of_Trues[i]=False\n",
    "        p+=1\n",
    "        \n",
    "    list_of_primes = []\n",
    "    \n",
    "    for i in range(2,n+1):\n",
    "        if(list_of_Trues[i]):\n",
    "            list_of_primes.append(i)\n",
    "\n",
    "    return list_of_primes\n",
    "\n",
    "sum(Sieve_of_Eratosthenes(2000000))"
   ]
  },
  {
   "cell_type": "code",
   "execution_count": null,
   "metadata": {},
   "outputs": [],
   "source": []
  }
 ],
 "metadata": {
  "kernelspec": {
   "display_name": "Python 3",
   "language": "python",
   "name": "python3"
  },
  "language_info": {
   "codemirror_mode": {
    "name": "ipython",
    "version": 3
   },
   "file_extension": ".py",
   "mimetype": "text/x-python",
   "name": "python",
   "nbconvert_exporter": "python",
   "pygments_lexer": "ipython3",
   "version": "3.7.6"
  }
 },
 "nbformat": 4,
 "nbformat_minor": 4
}
