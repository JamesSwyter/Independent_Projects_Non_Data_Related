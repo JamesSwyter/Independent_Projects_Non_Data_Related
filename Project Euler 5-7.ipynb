{
 "cells": [
  {
   "cell_type": "code",
   "execution_count": 18,
   "metadata": {},
   "outputs": [
    {
     "name": "stdout",
     "output_type": "stream",
     "text": [
      "232792560\n"
     ]
    }
   ],
   "source": [
    "a = 20\n",
    "i=1\n",
    "list_of_remainders=[]\n",
    "\n",
    "while True:\n",
    "    list_of_remainders=[]\n",
    "    a+=20\n",
    "    i=1\n",
    "    while(i<21):\n",
    "        remainder=a%i\n",
    "        list_of_remainders.append(remainder)\n",
    "        i+=1\n",
    "    if (max(list_of_remainders) == 0):\n",
    "        break\n",
    "print(a)\n",
    "    "
   ]
  },
  {
   "cell_type": "code",
   "execution_count": 21,
   "metadata": {},
   "outputs": [
    {
     "data": {
      "text/plain": [
       "25164150"
      ]
     },
     "execution_count": 21,
     "metadata": {},
     "output_type": "execute_result"
    }
   ],
   "source": [
    "listofsquares=[]\n",
    "listtobesquared=[]\n",
    "\n",
    "for i in range(101):\n",
    "    a = i**2\n",
    "    listofsquares.append(a)\n",
    "for i in range(101):\n",
    "    listtobesquared.append(i)\n",
    "    \n",
    "first=sum(listofsquares)\n",
    "second=(sum(listtobesquared))**2\n",
    "\n",
    "second-first"
   ]
  },
  {
   "cell_type": "code",
   "execution_count": 66,
   "metadata": {},
   "outputs": [
    {
     "data": {
      "text/plain": [
       "104743"
      ]
     },
     "execution_count": 66,
     "metadata": {},
     "output_type": "execute_result"
    }
   ],
   "source": [
    "primes=[2, 3, 5, 7, 11, 13, 17, 19, 23]\n",
    "def prime_generator(list):\n",
    "    a=len(list)-1\n",
    "    b=1\n",
    "    c=list[a] + 1\n",
    "    stop_condition=0\n",
    "\n",
    "    while(stop_condition==0):\n",
    "        if (c%b==0) & (c != b) & (b != 1):\n",
    "            c=c+1\n",
    "            b = 1\n",
    "        if b == c:\n",
    "            list.append(c)\n",
    "            stop_condition +=1\n",
    "        else: \n",
    "            b=b+1\n",
    "            \n",
    "while(len(primes)<10002):\n",
    "    prime_generator(primes)\n",
    "primes[10000]"
   ]
  },
  {
   "cell_type": "code",
   "execution_count": null,
   "metadata": {},
   "outputs": [],
   "source": []
  },
  {
   "cell_type": "code",
   "execution_count": null,
   "metadata": {},
   "outputs": [],
   "source": []
  }
 ],
 "metadata": {
  "kernelspec": {
   "display_name": "Python 3",
   "language": "python",
   "name": "python3"
  },
  "language_info": {
   "codemirror_mode": {
    "name": "ipython",
    "version": 3
   },
   "file_extension": ".py",
   "mimetype": "text/x-python",
   "name": "python",
   "nbconvert_exporter": "python",
   "pygments_lexer": "ipython3",
   "version": "3.7.6"
  }
 },
 "nbformat": 4,
 "nbformat_minor": 4
}
