{
 "cells": [
  {
   "cell_type": "code",
   "execution_count": 2,
   "metadata": {},
   "outputs": [
    {
     "data": {
      "text/plain": [
       "233168"
      ]
     },
     "execution_count": 2,
     "metadata": {},
     "output_type": "execute_result"
    }
   ],
   "source": [
    "multiples =[]\n",
    "\n",
    "for i in range(1000):\n",
    "    if (i%3==0) | (i%5==0):\n",
    "        multiples.append(i)\n",
    "\n",
    "sum(multiples)"
   ]
  },
  {
   "cell_type": "code",
   "execution_count": 5,
   "metadata": {},
   "outputs": [
    {
     "data": {
      "text/plain": [
       "4613732"
      ]
     },
     "execution_count": 5,
     "metadata": {},
     "output_type": "execute_result"
    }
   ],
   "source": [
    "x=1\n",
    "y=2\n",
    "z=x+y\n",
    "sequence=[1,2]\n",
    "\n",
    "while(z<4000000):\n",
    "    sequence.append(z)\n",
    "    x=y\n",
    "    y=z\n",
    "    z=x+y\n",
    "    \n",
    "justeven = []\n",
    "\n",
    "for i in sequence:\n",
    "    if i%2==0:\n",
    "        justeven.append(i)\n",
    "        \n",
    "sum(justeven)"
   ]
  },
  {
   "cell_type": "code",
   "execution_count": 48,
   "metadata": {},
   "outputs": [
    {
     "name": "stdout",
     "output_type": "stream",
     "text": [
      "22500.0\n",
      "11250.0\n",
      "5625.0\n",
      "1875.0\n",
      "625.0\n",
      "125.0\n",
      "25.0\n",
      "5.0\n"
     ]
    },
    {
     "data": {
      "text/plain": [
       "1.0"
      ]
     },
     "metadata": {},
     "output_type": "display_data"
    },
    {
     "data": {
      "text/plain": [
       "[2, 3, 5, 7, 11, 13, 17, 19, 23]"
      ]
     },
     "metadata": {},
     "output_type": "display_data"
    }
   ],
   "source": [
    "number_to_be_factored=45000\n",
    "primes=[2]\n",
    "\n",
    "def prime_generator(list):\n",
    "    a=len(list)-1\n",
    "    b=1\n",
    "    c=list[a] + 1\n",
    "    stop_condition=0\n",
    "    \n",
    "    while(stop_condition==0):\n",
    "        if (c%b==0) & (c != b) & (b != 1):\n",
    "            c=c+1\n",
    "            b=1\n",
    "        if b == c:\n",
    "            list.append(c)\n",
    "            stop_condition +=1\n",
    "        else: \n",
    "            b=b+1\n",
    "\n",
    "def factorizer(a, list):\n",
    "    c=0\n",
    "    stop_condition = 0\n",
    "    keep_trying = -2\n",
    "    \n",
    "    while(stop_condition==0):\n",
    "        if c==len(list):\n",
    "            return keep_trying\n",
    "        b=list[c]\n",
    "        if a%b == 0:\n",
    "            a=a/b\n",
    "            return a\n",
    "        else:\n",
    "            c=c+1\n",
    "\n",
    "a=len(primes)-1\n",
    "while(factorizer(number_to_be_factored, primes)!= 1):\n",
    "    prime_generator(primes)\n",
    "    if factorizer(number_to_be_factored, primes) != -2:\n",
    "        number_to_be_factored=factorizer(number_to_be_factored, primes)\n",
    "    print(number_to_be_factored)\n",
    "    \n",
    "display(factorizer(number_to_be_factored, primes))\n",
    "display(primes)"
   ]
  },
  {
   "cell_type": "code",
   "execution_count": 76,
   "metadata": {},
   "outputs": [
    {
     "name": "stdout",
     "output_type": "stream",
     "text": [
      "906609\n"
     ]
    }
   ],
   "source": [
    "def palindrome_checker(number_string):\n",
    "    c=0\n",
    "    d=len(number_string) - 1\n",
    "    while(c<d):\n",
    "        if(number_string[c] == number_string[d]):\n",
    "            c+=1\n",
    "            d-=1\n",
    "        else:\n",
    "            return False\n",
    "    return True\n",
    "\n",
    "a = 999\n",
    "b = 999\n",
    "list_of_palin=[]\n",
    "\n",
    "while(b>0):\n",
    "    while(a>0):\n",
    "        if palindrome_checker(str(a*b)) == True:\n",
    "            list_of_palin.append(a*b)\n",
    "        a-=1\n",
    "    b-=1\n",
    "    a=999\n",
    "    \n",
    "print(max(list_of_palin))        "
   ]
  },
  {
   "cell_type": "code",
   "execution_count": null,
   "metadata": {},
   "outputs": [],
   "source": []
  }
 ],
 "metadata": {
  "kernelspec": {
   "display_name": "Python 3",
   "language": "python",
   "name": "python3"
  },
  "language_info": {
   "codemirror_mode": {
    "name": "ipython",
    "version": 3
   },
   "file_extension": ".py",
   "mimetype": "text/x-python",
   "name": "python",
   "nbconvert_exporter": "python",
   "pygments_lexer": "ipython3",
   "version": "3.7.6"
  }
 },
 "nbformat": 4,
 "nbformat_minor": 4
}
